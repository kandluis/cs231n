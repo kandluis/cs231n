{
 "cells": [
  {
   "cell_type": "markdown",
   "metadata": {},
   "source": [
    "# Softmax exercise\n",
    "\n",
    "*Complete and hand in this completed worksheet (including its outputs and any supporting code outside of the worksheet) with your assignment submission. For more details see the [assignments page](http://vision.stanford.edu/teaching/cs231n/assignments.html) on the course website.*\n",
    "\n",
    "This exercise is analogous to the SVM exercise. You will:\n",
    "\n",
    "- implement a fully-vectorized **loss function** for the Softmax classifier\n",
    "- implement the fully-vectorized expression for its **analytic gradient**\n",
    "- **check your implementation** with numerical gradient\n",
    "- use a validation set to **tune the learning rate and regularization** strength\n",
    "- **optimize** the loss function with **SGD**\n",
    "- **visualize** the final learned weights\n"
   ]
  },
  {
   "cell_type": "code",
   "execution_count": 1,
   "metadata": {
    "collapsed": false
   },
   "outputs": [],
   "source": [
    "import random\n",
    "import numpy as np\n",
    "from cs231n.data_utils import load_CIFAR10\n",
    "import matplotlib.pyplot as plt\n",
    "\n",
    "from __future__ import print_function\n",
    "\n",
    "%matplotlib inline\n",
    "plt.rcParams['figure.figsize'] = (10.0, 8.0) # set default size of plots\n",
    "plt.rcParams['image.interpolation'] = 'nearest'\n",
    "plt.rcParams['image.cmap'] = 'gray'\n",
    "\n",
    "# for auto-reloading extenrnal modules\n",
    "# see http://stackoverflow.com/questions/1907993/autoreload-of-modules-in-ipython\n",
    "%load_ext autoreload\n",
    "%autoreload 2"
   ]
  },
  {
   "cell_type": "code",
   "execution_count": 2,
   "metadata": {
    "collapsed": false
   },
   "outputs": [
    {
     "name": "stdout",
     "output_type": "stream",
     "text": [
      "Train data shape:  (49000, 3073)\n",
      "Train labels shape:  (49000,)\n",
      "Validation data shape:  (1000, 3073)\n",
      "Validation labels shape:  (1000,)\n",
      "Test data shape:  (1000, 3073)\n",
      "Test labels shape:  (1000,)\n",
      "dev data shape:  (500, 3073)\n",
      "dev labels shape:  (500,)\n"
     ]
    }
   ],
   "source": [
    "def get_CIFAR10_data(num_training=49000, num_validation=1000, num_test=1000, num_dev=500):\n",
    "    \"\"\"\n",
    "    Load the CIFAR-10 dataset from disk and perform preprocessing to prepare\n",
    "    it for the linear classifier. These are the same steps as we used for the\n",
    "    SVM, but condensed to a single function.  \n",
    "    \"\"\"\n",
    "    # Load the raw CIFAR-10 data\n",
    "    cifar10_dir = 'cs231n/datasets/cifar-10-batches-py'\n",
    "    X_train, y_train, X_test, y_test = load_CIFAR10(cifar10_dir)\n",
    "    \n",
    "    # subsample the data\n",
    "    mask = list(range(num_training, num_training + num_validation))\n",
    "    X_val = X_train[mask]\n",
    "    y_val = y_train[mask]\n",
    "    mask = list(range(num_training))\n",
    "    X_train = X_train[mask]\n",
    "    y_train = y_train[mask]\n",
    "    mask = list(range(num_test))\n",
    "    X_test = X_test[mask]\n",
    "    y_test = y_test[mask]\n",
    "    mask = np.random.choice(num_training, num_dev, replace=False)\n",
    "    X_dev = X_train[mask]\n",
    "    y_dev = y_train[mask]\n",
    "    \n",
    "    # Preprocessing: reshape the image data into rows\n",
    "    X_train = np.reshape(X_train, (X_train.shape[0], -1))\n",
    "    X_val = np.reshape(X_val, (X_val.shape[0], -1))\n",
    "    X_test = np.reshape(X_test, (X_test.shape[0], -1))\n",
    "    X_dev = np.reshape(X_dev, (X_dev.shape[0], -1))\n",
    "    \n",
    "    # Normalize the data: subtract the mean image\n",
    "    mean_image = np.mean(X_train, axis = 0)\n",
    "    X_train -= mean_image\n",
    "    X_val -= mean_image\n",
    "    X_test -= mean_image\n",
    "    X_dev -= mean_image\n",
    "    \n",
    "    # add bias dimension and transform into columns\n",
    "    X_train = np.hstack([X_train, np.ones((X_train.shape[0], 1))])\n",
    "    X_val = np.hstack([X_val, np.ones((X_val.shape[0], 1))])\n",
    "    X_test = np.hstack([X_test, np.ones((X_test.shape[0], 1))])\n",
    "    X_dev = np.hstack([X_dev, np.ones((X_dev.shape[0], 1))])\n",
    "    \n",
    "    return X_train, y_train, X_val, y_val, X_test, y_test, X_dev, y_dev\n",
    "\n",
    "\n",
    "# Invoke the above function to get our data.\n",
    "X_train, y_train, X_val, y_val, X_test, y_test, X_dev, y_dev = get_CIFAR10_data()\n",
    "print('Train data shape: ', X_train.shape)\n",
    "print('Train labels shape: ', y_train.shape)\n",
    "print('Validation data shape: ', X_val.shape)\n",
    "print('Validation labels shape: ', y_val.shape)\n",
    "print('Test data shape: ', X_test.shape)\n",
    "print('Test labels shape: ', y_test.shape)\n",
    "print('dev data shape: ', X_dev.shape)\n",
    "print('dev labels shape: ', y_dev.shape)"
   ]
  },
  {
   "cell_type": "markdown",
   "metadata": {},
   "source": [
    "## Softmax Classifier\n",
    "\n",
    "Your code for this section will all be written inside **cs231n/classifiers/softmax.py**. \n"
   ]
  },
  {
   "cell_type": "code",
   "execution_count": 25,
   "metadata": {
    "collapsed": false
   },
   "outputs": [
    {
     "name": "stdout",
     "output_type": "stream",
     "text": [
      "loss: 2.269176\n",
      "sanity check: 2.302585\n"
     ]
    }
   ],
   "source": [
    "# First implement the naive softmax loss function with nested loops.\n",
    "# Open the file cs231n/classifiers/softmax.py and implement the\n",
    "# softmax_loss_naive function.\n",
    "\n",
    "from cs231n.classifiers.softmax import softmax_loss_naive\n",
    "import time\n",
    "\n",
    "# Generate a random softmax weight matrix and use it to compute the loss.\n",
    "W = np.random.randn(3073, 10) * 0.0001\n",
    "loss, grad = softmax_loss_naive(W, X_dev, y_dev, 0.0)\n",
    "\n",
    "# As a rough sanity check, our loss should be something close to -log(0.1).\n",
    "print('loss: %f' % loss)\n",
    "print('sanity check: %f' % (-np.log(0.1)))"
   ]
  },
  {
   "cell_type": "markdown",
   "metadata": {},
   "source": [
    "## Inline Question 1:\n",
    "Why do we expect our loss to be close to -log(0.1)? Explain briefly.**\n",
    "\n",
    "**Your answer:** Since we generated a random weight matrix, our classifier should be essentialy random. This means that on average, it should only correctly classify 10% of the data, or 0.1. This is equivalent to a loss of -log(0.1).\n"
   ]
  },
  {
   "cell_type": "code",
   "execution_count": 28,
   "metadata": {
    "collapsed": false
   },
   "outputs": [
    {
     "name": "stdout",
     "output_type": "stream",
     "text": [
      "numerical: 2.696155 analytic: 2.696155, relative error: 1.552965e-08\n",
      "numerical: -0.683764 analytic: -0.683764, relative error: 3.835152e-08\n",
      "numerical: 1.505109 analytic: 1.505109, relative error: 1.297521e-08\n",
      "numerical: -0.111688 analytic: -0.111688, relative error: 2.924926e-07\n",
      "numerical: 1.790224 analytic: 1.790223, relative error: 3.287112e-08\n",
      "numerical: 1.884127 analytic: 1.884127, relative error: 2.403958e-08\n",
      "numerical: 2.156960 analytic: 2.156960, relative error: 5.971422e-09\n",
      "numerical: 2.467893 analytic: 2.467893, relative error: 2.981010e-08\n",
      "numerical: 2.548673 analytic: 2.548673, relative error: 2.932425e-08\n",
      "numerical: 0.767842 analytic: 0.767842, relative error: 5.133129e-08\n",
      "numerical: -7.038147 analytic: -7.038147, relative error: 3.220595e-09\n",
      "numerical: 0.820624 analytic: 0.820624, relative error: 9.895517e-08\n",
      "numerical: -2.226779 analytic: -2.226779, relative error: 3.697429e-08\n",
      "numerical: 0.461724 analytic: 0.461724, relative error: 1.191689e-07\n",
      "numerical: 2.694812 analytic: 2.694812, relative error: 1.246061e-08\n",
      "numerical: 1.135516 analytic: 1.135516, relative error: 6.138681e-08\n",
      "numerical: 0.520146 analytic: 0.520145, relative error: 1.628619e-07\n",
      "numerical: -3.498960 analytic: -3.498960, relative error: 2.596243e-08\n",
      "numerical: 1.786013 analytic: 1.786013, relative error: 3.538465e-08\n",
      "numerical: 2.509588 analytic: 2.509588, relative error: 2.201943e-08\n"
     ]
    }
   ],
   "source": [
    "# Complete the implementation of softmax_loss_naive and implement a (naive)\n",
    "# version of the gradient that uses nested loops.\n",
    "loss, grad = softmax_loss_naive(W, X_dev, y_dev, 0.0)\n",
    "\n",
    "# As we did for the SVM, use numeric gradient checking as a debugging tool.\n",
    "# The numeric gradient should be close to the analytic gradient.\n",
    "from cs231n.gradient_check import grad_check_sparse\n",
    "f = lambda w: softmax_loss_naive(w, X_dev, y_dev, 0.0)[0]\n",
    "grad_numerical = grad_check_sparse(f, W, grad, 10)\n",
    "\n",
    "# similar to SVM case, do another gradient check with regularization\n",
    "loss, grad = softmax_loss_naive(W, X_dev, y_dev, 5e1)\n",
    "f = lambda w: softmax_loss_naive(w, X_dev, y_dev, 5e1)[0]\n",
    "grad_numerical = grad_check_sparse(f, W, grad, 10)"
   ]
  },
  {
   "cell_type": "code",
   "execution_count": 34,
   "metadata": {
    "collapsed": false
   },
   "outputs": [
    {
     "name": "stdout",
     "output_type": "stream",
     "text": [
      "naive loss: 2.269176e+00 computed in 0.141428s\n",
      "vectorized loss: 2.269176e+00 computed in 0.015451s\n",
      "Loss difference: 0.000000\n",
      "Gradient difference: 0.000000\n"
     ]
    }
   ],
   "source": [
    "# Now that we have a naive implementation of the softmax loss function and its gradient,\n",
    "# implement a vectorized version in softmax_loss_vectorized.\n",
    "# The two versions should compute the same results, but the vectorized version should be\n",
    "# much faster.\n",
    "tic = time.time()\n",
    "loss_naive, grad_naive = softmax_loss_naive(W, X_dev, y_dev, 0.000005)\n",
    "toc = time.time()\n",
    "print('naive loss: %e computed in %fs' % (loss_naive, toc - tic))\n",
    "\n",
    "from cs231n.classifiers.softmax import softmax_loss_vectorized\n",
    "tic = time.time()\n",
    "loss_vectorized, grad_vectorized = softmax_loss_vectorized(W, X_dev, y_dev, 0.000005)\n",
    "toc = time.time()\n",
    "print('vectorized loss: %e computed in %fs' % (loss_vectorized, toc - tic))\n",
    "\n",
    "# As we did for the SVM, we use the Frobenius norm to compare the two versions\n",
    "# of the gradient.\n",
    "grad_difference = np.linalg.norm(grad_naive - grad_vectorized, ord='fro')\n",
    "print('Loss difference: %f' % np.abs(loss_naive - loss_vectorized))\n",
    "print('Gradient difference: %f' % grad_difference)"
   ]
  },
  {
   "cell_type": "code",
   "execution_count": 44,
   "metadata": {
    "collapsed": false
   },
   "outputs": [
    {
     "name": "stdout",
     "output_type": "stream",
     "text": [
      "lr 1.000000e-07 reg 3.162278e+03 train accuracy: 0.303204 val accuracy: 0.306000\n",
      "lr 1.000000e-07 reg 4.084239e+03 train accuracy: 0.320122 val accuracy: 0.318000\n",
      "lr 1.000000e-07 reg 5.274997e+03 train accuracy: 0.334245 val accuracy: 0.352000\n",
      "lr 1.000000e-07 reg 6.812921e+03 train accuracy: 0.347122 val accuracy: 0.359000\n",
      "lr 1.000000e-07 reg 8.799225e+03 train accuracy: 0.353388 val accuracy: 0.351000\n",
      "lr 1.000000e-07 reg 1.136464e+04 train accuracy: 0.349653 val accuracy: 0.365000\n",
      "lr 1.000000e-07 reg 1.467799e+04 train accuracy: 0.347286 val accuracy: 0.359000\n",
      "lr 1.000000e-07 reg 1.895736e+04 train accuracy: 0.340816 val accuracy: 0.351000\n",
      "lr 1.000000e-07 reg 2.448437e+04 train accuracy: 0.324184 val accuracy: 0.353000\n",
      "lr 1.000000e-07 reg 3.162278e+04 train accuracy: 0.320551 val accuracy: 0.336000\n",
      "lr 1.291550e-07 reg 3.162278e+03 train accuracy: 0.330653 val accuracy: 0.343000\n",
      "lr 1.291550e-07 reg 4.084239e+03 train accuracy: 0.347633 val accuracy: 0.338000\n",
      "lr 1.291550e-07 reg 5.274997e+03 train accuracy: 0.358980 val accuracy: 0.360000\n",
      "lr 1.291550e-07 reg 6.812921e+03 train accuracy: 0.362898 val accuracy: 0.365000\n",
      "lr 1.291550e-07 reg 8.799225e+03 train accuracy: 0.360837 val accuracy: 0.374000\n",
      "lr 1.291550e-07 reg 1.136464e+04 train accuracy: 0.356367 val accuracy: 0.369000\n",
      "lr 1.291550e-07 reg 1.467799e+04 train accuracy: 0.341061 val accuracy: 0.363000\n",
      "lr 1.291550e-07 reg 1.895736e+04 train accuracy: 0.339000 val accuracy: 0.349000\n",
      "lr 1.291550e-07 reg 2.448437e+04 train accuracy: 0.331714 val accuracy: 0.346000\n",
      "lr 1.291550e-07 reg 3.162278e+04 train accuracy: 0.327286 val accuracy: 0.340000\n",
      "lr 1.668101e-07 reg 3.162278e+03 train accuracy: 0.352204 val accuracy: 0.358000\n",
      "lr 1.668101e-07 reg 4.084239e+03 train accuracy: 0.362735 val accuracy: 0.371000\n",
      "lr 1.668101e-07 reg 5.274997e+03 train accuracy: 0.368429 val accuracy: 0.388000\n",
      "lr 1.668101e-07 reg 6.812921e+03 train accuracy: 0.366020 val accuracy: 0.376000\n",
      "lr 1.668101e-07 reg 8.799225e+03 train accuracy: 0.363041 val accuracy: 0.377000\n",
      "lr 1.668101e-07 reg 1.136464e+04 train accuracy: 0.355265 val accuracy: 0.376000\n",
      "lr 1.668101e-07 reg 1.467799e+04 train accuracy: 0.349265 val accuracy: 0.366000\n",
      "lr 1.668101e-07 reg 1.895736e+04 train accuracy: 0.333163 val accuracy: 0.344000\n",
      "lr 1.668101e-07 reg 2.448437e+04 train accuracy: 0.333347 val accuracy: 0.352000\n",
      "lr 1.668101e-07 reg 3.162278e+04 train accuracy: 0.317898 val accuracy: 0.331000\n",
      "lr 2.154435e-07 reg 3.162278e+03 train accuracy: 0.375347 val accuracy: 0.382000\n",
      "lr 2.154435e-07 reg 4.084239e+03 train accuracy: 0.375776 val accuracy: 0.382000\n",
      "lr 2.154435e-07 reg 5.274997e+03 train accuracy: 0.372388 val accuracy: 0.393000\n",
      "lr 2.154435e-07 reg 6.812921e+03 train accuracy: 0.367857 val accuracy: 0.375000\n",
      "lr 2.154435e-07 reg 8.799225e+03 train accuracy: 0.357755 val accuracy: 0.379000\n",
      "lr 2.154435e-07 reg 1.136464e+04 train accuracy: 0.357000 val accuracy: 0.364000\n",
      "lr 2.154435e-07 reg 1.467799e+04 train accuracy: 0.349061 val accuracy: 0.363000\n",
      "lr 2.154435e-07 reg 1.895736e+04 train accuracy: 0.337796 val accuracy: 0.346000\n",
      "lr 2.154435e-07 reg 2.448437e+04 train accuracy: 0.332347 val accuracy: 0.335000\n",
      "lr 2.154435e-07 reg 3.162278e+04 train accuracy: 0.324490 val accuracy: 0.331000\n",
      "lr 2.782559e-07 reg 3.162278e+03 train accuracy: 0.381265 val accuracy: 0.394000\n",
      "lr 2.782559e-07 reg 4.084239e+03 train accuracy: 0.377122 val accuracy: 0.391000\n",
      "lr 2.782559e-07 reg 5.274997e+03 train accuracy: 0.367857 val accuracy: 0.366000\n",
      "lr 2.782559e-07 reg 6.812921e+03 train accuracy: 0.366327 val accuracy: 0.378000\n",
      "lr 2.782559e-07 reg 8.799225e+03 train accuracy: 0.361286 val accuracy: 0.373000\n",
      "lr 2.782559e-07 reg 1.136464e+04 train accuracy: 0.352388 val accuracy: 0.370000\n",
      "lr 2.782559e-07 reg 1.467799e+04 train accuracy: 0.337061 val accuracy: 0.350000\n",
      "lr 2.782559e-07 reg 1.895736e+04 train accuracy: 0.336265 val accuracy: 0.355000\n",
      "lr 2.782559e-07 reg 2.448437e+04 train accuracy: 0.335224 val accuracy: 0.353000\n",
      "lr 2.782559e-07 reg 3.162278e+04 train accuracy: 0.321653 val accuracy: 0.323000\n",
      "lr 3.593814e-07 reg 3.162278e+03 train accuracy: 0.383878 val accuracy: 0.394000\n",
      "lr 3.593814e-07 reg 4.084239e+03 train accuracy: 0.375898 val accuracy: 0.383000\n",
      "lr 3.593814e-07 reg 5.274997e+03 train accuracy: 0.371490 val accuracy: 0.379000\n",
      "lr 3.593814e-07 reg 6.812921e+03 train accuracy: 0.363653 val accuracy: 0.372000\n",
      "lr 3.593814e-07 reg 8.799225e+03 train accuracy: 0.354184 val accuracy: 0.366000\n",
      "lr 3.593814e-07 reg 1.136464e+04 train accuracy: 0.344490 val accuracy: 0.357000\n",
      "lr 3.593814e-07 reg 1.467799e+04 train accuracy: 0.344143 val accuracy: 0.355000\n",
      "lr 3.593814e-07 reg 1.895736e+04 train accuracy: 0.336388 val accuracy: 0.343000\n",
      "lr 3.593814e-07 reg 2.448437e+04 train accuracy: 0.324816 val accuracy: 0.337000\n",
      "lr 3.593814e-07 reg 3.162278e+04 train accuracy: 0.318224 val accuracy: 0.336000\n",
      "lr 4.641589e-07 reg 3.162278e+03 train accuracy: 0.384429 val accuracy: 0.385000\n",
      "lr 4.641589e-07 reg 4.084239e+03 train accuracy: 0.377102 val accuracy: 0.393000\n",
      "lr 4.641589e-07 reg 5.274997e+03 train accuracy: 0.370633 val accuracy: 0.378000\n",
      "lr 4.641589e-07 reg 6.812921e+03 train accuracy: 0.359918 val accuracy: 0.369000\n",
      "lr 4.641589e-07 reg 8.799225e+03 train accuracy: 0.352163 val accuracy: 0.359000\n",
      "lr 4.641589e-07 reg 1.136464e+04 train accuracy: 0.353082 val accuracy: 0.374000\n",
      "lr 4.641589e-07 reg 1.467799e+04 train accuracy: 0.341143 val accuracy: 0.364000\n",
      "lr 4.641589e-07 reg 1.895736e+04 train accuracy: 0.330347 val accuracy: 0.341000\n",
      "lr 4.641589e-07 reg 2.448437e+04 train accuracy: 0.328224 val accuracy: 0.342000\n",
      "lr 4.641589e-07 reg 3.162278e+04 train accuracy: 0.324204 val accuracy: 0.334000\n",
      "lr 5.994843e-07 reg 3.162278e+03 train accuracy: 0.381429 val accuracy: 0.389000\n",
      "lr 5.994843e-07 reg 4.084239e+03 train accuracy: 0.377143 val accuracy: 0.386000\n",
      "lr 5.994843e-07 reg 5.274997e+03 train accuracy: 0.360061 val accuracy: 0.379000\n",
      "lr 5.994843e-07 reg 6.812921e+03 train accuracy: 0.361327 val accuracy: 0.377000\n",
      "lr 5.994843e-07 reg 8.799225e+03 train accuracy: 0.352714 val accuracy: 0.367000\n",
      "lr 5.994843e-07 reg 1.136464e+04 train accuracy: 0.347776 val accuracy: 0.356000\n",
      "lr 5.994843e-07 reg 1.467799e+04 train accuracy: 0.341327 val accuracy: 0.350000\n",
      "lr 5.994843e-07 reg 1.895736e+04 train accuracy: 0.335490 val accuracy: 0.353000\n",
      "lr 5.994843e-07 reg 2.448437e+04 train accuracy: 0.323224 val accuracy: 0.340000\n",
      "lr 5.994843e-07 reg 3.162278e+04 train accuracy: 0.308776 val accuracy: 0.324000\n",
      "lr 7.742637e-07 reg 3.162278e+03 train accuracy: 0.374367 val accuracy: 0.370000\n",
      "lr 7.742637e-07 reg 4.084239e+03 train accuracy: 0.373551 val accuracy: 0.375000\n",
      "lr 7.742637e-07 reg 5.274997e+03 train accuracy: 0.367633 val accuracy: 0.387000\n",
      "lr 7.742637e-07 reg 6.812921e+03 train accuracy: 0.359184 val accuracy: 0.382000\n",
      "lr 7.742637e-07 reg 8.799225e+03 train accuracy: 0.356571 val accuracy: 0.370000\n",
      "lr 7.742637e-07 reg 1.136464e+04 train accuracy: 0.342673 val accuracy: 0.352000\n",
      "lr 7.742637e-07 reg 1.467799e+04 train accuracy: 0.333122 val accuracy: 0.350000\n",
      "lr 7.742637e-07 reg 1.895736e+04 train accuracy: 0.322735 val accuracy: 0.332000\n",
      "lr 7.742637e-07 reg 2.448437e+04 train accuracy: 0.325878 val accuracy: 0.342000\n",
      "lr 7.742637e-07 reg 3.162278e+04 train accuracy: 0.304367 val accuracy: 0.330000\n",
      "lr 1.000000e-06 reg 3.162278e+03 train accuracy: 0.385816 val accuracy: 0.390000\n",
      "lr 1.000000e-06 reg 4.084239e+03 train accuracy: 0.372510 val accuracy: 0.384000\n",
      "lr 1.000000e-06 reg 5.274997e+03 train accuracy: 0.372469 val accuracy: 0.380000\n",
      "lr 1.000000e-06 reg 6.812921e+03 train accuracy: 0.360122 val accuracy: 0.378000\n",
      "lr 1.000000e-06 reg 8.799225e+03 train accuracy: 0.349837 val accuracy: 0.352000\n",
      "lr 1.000000e-06 reg 1.136464e+04 train accuracy: 0.338653 val accuracy: 0.354000\n",
      "lr 1.000000e-06 reg 1.467799e+04 train accuracy: 0.347041 val accuracy: 0.345000\n",
      "lr 1.000000e-06 reg 1.895736e+04 train accuracy: 0.327959 val accuracy: 0.334000\n",
      "lr 1.000000e-06 reg 2.448437e+04 train accuracy: 0.334306 val accuracy: 0.350000\n",
      "lr 1.000000e-06 reg 3.162278e+04 train accuracy: 0.303367 val accuracy: 0.315000\n",
      "best validation accuracy achieved during cross-validation: 0.394000\n"
     ]
    }
   ],
   "source": [
    "# Use the validation set to tune hyperparameters (regularization strength and\n",
    "# learning rate). You should experiment with different ranges for the learning\n",
    "# rates and regularization strengths; if you are careful you should be able to\n",
    "# get a classification accuracy of over 0.35 on the validation set.\n",
    "from cs231n.classifiers import Softmax\n",
    "results = {}\n",
    "best_val = -1\n",
    "best_softmax = None\n",
    "learning_rates = np.logspace(-7, -6, 10)\n",
    "regularization_strengths = np.logspace(3.5, 4.5, 10)\n",
    "\n",
    "################################################################################\n",
    "# TODO:                                                                        #\n",
    "# Use the validation set to set the learning rate and regularization strength. #\n",
    "# This should be identical to the validation that you did for the SVM; save    #\n",
    "# the best trained softmax classifer in best_softmax.                          #\n",
    "################################################################################\n",
    "for learn_rate in learning_rates:\n",
    "    for reg in regularization_strengths:\n",
    "        softmax = Softmax()\n",
    "        _ = softmax.train(X_train, y_train, learning_rate=learn_rate, reg=reg,\n",
    "                          num_iters=1500)\n",
    "        y_train_pred = softmax.predict(X_train)\n",
    "        y_val_pred = softmax.predict(X_val)\n",
    "        train_accuracy = np.mean(y_train == y_train_pred)\n",
    "        val_accuracy = np.mean(y_val == y_val_pred)\n",
    "        results[(learn_rate, reg)] = (train_accuracy,val_accuracy)\n",
    "        if best_val < val_accuracy:\n",
    "            best_val = val_accuracy\n",
    "            best_softmax = softmax\n",
    "################################################################################\n",
    "#                              END OF YOUR CODE                                #\n",
    "################################################################################\n",
    "    \n",
    "# Print out results.\n",
    "for lr, reg in sorted(results):\n",
    "    train_accuracy, val_accuracy = results[(lr, reg)]\n",
    "    print('lr %e reg %e train accuracy: %f val accuracy: %f' % (\n",
    "                lr, reg, train_accuracy, val_accuracy))\n",
    "    \n",
    "print('best validation accuracy achieved during cross-validation: %f' % best_val)"
   ]
  },
  {
   "cell_type": "code",
   "execution_count": 45,
   "metadata": {
    "collapsed": false
   },
   "outputs": [
    {
     "name": "stdout",
     "output_type": "stream",
     "text": [
      "softmax on raw pixels final test set accuracy: 0.385000\n"
     ]
    }
   ],
   "source": [
    "# evaluate on test set\n",
    "# Evaluate the best softmax on test set\n",
    "y_test_pred = best_softmax.predict(X_test)\n",
    "test_accuracy = np.mean(y_test == y_test_pred)\n",
    "print('softmax on raw pixels final test set accuracy: %f' % (test_accuracy, ))"
   ]
  },
  {
   "cell_type": "code",
   "execution_count": 46,
   "metadata": {
    "collapsed": false
   },
   "outputs": [
    {
     "data": {
      "image/png": "[encoded data removed]",
      "text/plain": [
       "<matplotlib.figure.Figure at 0x7f0fa3315610>"
      ]
     },
     "metadata": {},
     "output_type": "display_data"
    }
   ],
   "source": [
    "# Visualize the learned weights for each class\n",
    "w = best_softmax.W[:-1,:] # strip out the bias\n",
    "w = w.reshape(32, 32, 3, 10)\n",
    "\n",
    "w_min, w_max = np.min(w), np.max(w)\n",
    "\n",
    "classes = ['plane', 'car', 'bird', 'cat', 'deer', 'dog', 'frog', 'horse', 'ship', 'truck']\n",
    "for i in range(10):\n",
    "    plt.subplot(2, 5, i + 1)\n",
    "    \n",
    "    # Rescale the weights to be between 0 and 255\n",
    "    wimg = 255.0 * (w[:, :, :, i].squeeze() - w_min) / (w_max - w_min)\n",
    "    plt.imshow(wimg.astype('uint8'))\n",
    "    plt.axis('off')\n",
    "    plt.title(classes[i])"
   ]
  },
  {
   "cell_type": "code",
   "execution_count": null,
   "metadata": {
    "collapsed": true
   },
   "outputs": [],
   "source": []
  }
 ],
 "metadata": {
  "kernelspec": {
   "display_name": "Python 2",
   "language": "python",
   "name": "python2"
  },
  "language_info": {
   "codemirror_mode": {
    "name": "ipython",
    "version": 2
   },
   "file_extension": ".py",
   "mimetype": "text/x-python",
   "name": "python",
   "nbconvert_exporter": "python",
   "pygments_lexer": "ipython2",
   "version": "2.7.12"
  }
 },
 "nbformat": 4,
 "nbformat_minor": 0
}
